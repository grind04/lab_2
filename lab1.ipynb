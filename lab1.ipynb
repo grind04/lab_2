{
 "cells": [
  {
   "cell_type": "markdown",
   "metadata": {
    "collapsed": true
   },
   "source": [
    "# Лабораторна Робота №1\n",
    "\n",
    "Гапоненко Антон ФІ-41\n",
    "\n",
    "<b>Тема</b>: Наука про дані: підготовчий етап <br><br>\n",
    "<b>Мета роботи</b>: ознайомитися з основними кроками по роботі з даними – workflow від постановки задачі до написання пояснювальної записки, зрозуміти постановку задачі та природу даних, над якими виконується аналітичні операції"
   ]
  },
  {
   "cell_type": "code",
   "execution_count": 17,
   "metadata": {
    "collapsed": true
   },
   "outputs": [],
   "source": [
    "# -*- coding: utf-8 -*-\n",
    "import urllib2\n",
    "import pandas as pd\n",
    "import numpy as np\n",
    "import csv\n",
    "import time\n",
    "import pprint\n",
    "#Бібліотека для роботи з графіками\n",
    "import matplotlib.pyplot as plt\n",
    "%matplotlib inline\n",
    "\n",
    "#Функція, яка повертає справжній id країни з сайту \n",
    "def get_id(id):\n",
    "    S=[24,25,5,6,27,23,26,7,11,13,14,15,16,17,18,19,21,22,8,9,10,1,3,2,4]\n",
    "    return S[id-1]    \n",
    "\n",
    "#Функція, яка повертає ім'я регіону\n",
    "def get_name(id):  \n",
    "    return {\n",
    "        1: \"Vinnitsa\",\n",
    "        2: \"Volyn\",\n",
    "        3: \"Dnipropetrovsk\",\n",
    "        4: \"Donetsk\",\n",
    "        5: \"Zhytomyr\",\n",
    "        6: \"Zakarpattya\",\n",
    "        7: \"Zaporizhzhya\",\n",
    "        8: \"Ivano-Frankivsk\",\n",
    "        9: \"Kyiv\",\n",
    "       10: \"Kirovograd\",\n",
    "       11: \"Lugansk\",\n",
    "       12: \"Lviv\",\n",
    "       13: \"Nicholas\",\n",
    "       14: \"Odessa\",\n",
    "       15: \"Poltava\",\n",
    "       16: \"Rivne\",\n",
    "       17: \"Sums\",\n",
    "       18: \"Ternopil\",\n",
    "       19: \"Kharkiv\",\n",
    "       20: \"Kherson\",\n",
    "       21: \"Khmelnytsky\",\n",
    "       22: \"Cherkasy\",\n",
    "       23: \"Chernivtsi\",\n",
    "       24: \"Chernihiv\",\n",
    "       25: \"Republic of Crimea\",\n",
    "    }.get(id, \"nothing\")"
   ]
  },
  {
   "cell_type": "code",
   "execution_count": 18,
   "metadata": {
    "collapsed": true
   },
   "outputs": [],
   "source": [
    "#Функція, якак повертає ім'я файлу, що завантажується\n",
    "def filename(a,state):\n",
    "    strtime = time.strftime(\"%Y-%m-%d_%Hh%Mm%Ss\")\n",
    "    id = str(a)\n",
    "    file_name = r'id_'+id+'_'+state+'_'+strtime+'.csv' \n",
    "    return file_name\n",
    "\n",
    "#Функція збереження файлу до домашнього каталогу\n",
    "def save(a, file):\n",
    "    if (a<10):\n",
    "        url=r\"http://www.star.nesdis.noaa.gov/smcd/emb/vci/gvix/G04/ts_L1/ByProvince/Mean/L1_Mean_UKR.R0%s.txt\" % a\n",
    "    elif (a>=10):\n",
    "        url=r\"http://www.star.nesdis.noaa.gov/smcd/emb/vci/gvix/G04/ts_L1/ByProvince/Mean/L1_Mean_UKR.R%s.txt\" % a\n",
    "    else: \n",
    "        print(\"Error!\")\n",
    "    vhi_url = urllib2.urlopen(url)    \n",
    "    out = open(\"/home/anton/datascience/lab_1/data/%s\" % file,'wb') \n",
    "    out.write(vhi_url.read())    \n",
    "    out.close()    \n",
    "    print \"VHI is downloaded...\""
   ]
  },
  {
   "cell_type": "code",
   "execution_count": 19,
   "metadata": {
    "collapsed": true
   },
   "outputs": [],
   "source": [
    "#Функція, яка завантажує csv-файл до фрейму та видаляє -1 і непотрібні символи\n",
    "#Сирі дані містятья у каталозі rawdata, а відформатовані у каталог freshdata\n",
    "def readtoframe(file):\n",
    "    name_columns = ['Year','Week','SMN','SMT','VCI','TCI','VHI','Area-VHI-LESS-15','Area-VHI-LESS-35']   \n",
    "    df = pd.read_csv(r\"/home/anton/datascience/lab_1/data/%s\" % file, index_col=False, header=1) \n",
    "    df = df[df.VHI != -1.0]      \n",
    "    df.columns = name_columns  \n",
    "    new_file = 'new_' + file\n",
    "    df.to_csv(r\"/home/anton/datascience/lab_1/newdata/%s\" % new_file)\n",
    "    \n",
    "    "
   ]
  },
  {
   "cell_type": "code",
   "execution_count": 20,
   "metadata": {
    "collapsed": false
   },
   "outputs": [],
   "source": [
    "#Функція, яка виводить мінімальний VHI та рік в якому він був, для певного регіону за всі роки\n",
    "def VHI_min(file,state):\n",
    "    df = pd.read_csv(r\"/home/anton/datascience/lab_1/newdata/%s\" % file) \n",
    "    print('\\nMIN_VHI_'+state+': '+str(df['VHI'].min()))\n",
    "    df = df[df['VHI']==df['VHI'].min()]\n",
    "    print(int(df.iloc[0,1]))\n",
    "      \n",
    "#Функція, яка виводить максимальний VHI та рік в якому він був, для певного регіону за всі роки\n",
    "def VHI_max(file,state):\n",
    "    df = pd.read_csv(r\"/home/anton/datascience/lab_1/newdata/%s\" % file) \n",
    "    print('\\nMAX_VHI_'+state+': '+str(df['VHI'].max()))\n",
    "    df = df[df['VHI']==df['VHI'].max()]\n",
    "    print(int(df.iloc[0,1]))   \n",
    "\n",
    "#Функція, яка виводить рік та тиждень в яких VHI<15   \n",
    "def VHI_drought(file,state):\n",
    "    df = pd.read_csv(r\"/home/anton/datascience/lab_1/newdata/%s\" % file) \n",
    "    df=df[(df['Year']!=0) & (df['VHI']<15)]\n",
    "    print('\\nDrought in '+state+' was:')\n",
    "    print df.loc[:,['Year','Week','VHI']] \n",
    "    \n",
    "#Функція, яка виводить рік та тиждень в яких VHI<15 та VHI>75     \n",
    "def anomaly_VHI(file,state):\n",
    "    \n",
    "    df = pd.read_csv(r\"/home/anton/datascience/lab_1/newdata/%s\" % file) \n",
    "    print('\\nAnomaly VHI less than 15 '+state+':')\n",
    "    df = df[df['VHI']<=15.0]\n",
    "    if (df.empty):\n",
    "        print ('None')\n",
    "    else:\n",
    "        print df.loc[:,['Year','Week','VHI']] \n",
    "    \n",
    "    \n",
    "    df = pd.read_csv(r\"/home/anton/datascience/lab_1/newdata/%s\" % file) \n",
    "    print('\\nAnomaly VHI more than 75 '+state+':')\n",
    "    df = df[df['VHI']>=75.0]\n",
    "    if (df.empty):\n",
    "        print ('None')\n",
    "    else:\n",
    "        print df.loc[:,['Year','Week','VHI']]  "
   ]
  },
  {
   "cell_type": "code",
   "execution_count": 21,
   "metadata": {
    "collapsed": true
   },
   "outputs": [],
   "source": [
    "#Функція, яка будує графіки за певний рік\n",
    "#Графіки будуються для певної області за рік, які показують залежність аномальні VHI від тижня року. \n",
    "def Plot_build(file,state,year):  \n",
    "    title = 'Anomaly VHI '+state+' '+str(year)\n",
    "         \n",
    "    plt.figure(figsize=(10,5))\n",
    "    plt.title(title,fontsize=20)\n",
    "    \n",
    "    df = pd.read_csv(r\"/home/anton/datascience/lab_1/newdata/%s\" % file)    \n",
    "    df=df[(df['Year']==year)]\n",
    "    df=df.loc[:,['Year','Week','VHI']]  \n",
    "    plt.plot(df['Week'], df['VHI'], label='VHI', color = 'grey')\n",
    "    \n",
    "    df1 = pd.read_csv(r\"/home/anton/datascience/lab_1/newdata/%s\" % file)    \n",
    "    df1=df1[(df1['Year']==year) & (df1['VHI']<=15.0)]\n",
    "    df1=df1.loc[:,['Year','Week','VHI']]  \n",
    "    plt.scatter(df1['Week'], df1['VHI'], label='min', color = 'red', marker = 'x', s=100)\n",
    "    \n",
    "    df2 = pd.read_csv(r\"/home/anton/datascience/lab_1/newdata/%s\" % file) \n",
    "    df2=df2[(df2['Year']==year) & (df2['VHI']>=75.0)]\n",
    "    df2=df2.loc[:,['Year','Week','VHI']] \n",
    "    plt.scatter(df2['Week'], df2['VHI'], label='max', color = 'blue', marker = '*', s=100)\n",
    "\n",
    "    plt.xlabel('Week')\n",
    "    plt.ylabel('VHI')\n",
    "    plt.ylim(0,100)\n",
    "    plt.xlim(1,52)\n",
    "    plt.legend()\n",
    "    plt.grid()  "
   ]
  },
  {
   "cell_type": "code",
   "execution_count": 22,
   "metadata": {
    "collapsed": false
   },
   "outputs": [
    {
     "name": "stdout",
     "output_type": "stream",
     "text": [
      "VHI is downloaded...\n",
      "File: id_5_Dnipropetrovsk_2016-04-01_19h34m30s.csv\n",
      "\n",
      "\n",
      "Anomaly VHI less than 15 Dnipropetrovsk:\n",
      "     Year  Week    VHI\n",
      "251  1986    35  14.24\n",
      "252  1986    36  13.30\n",
      "\n",
      "[2 rows x 3 columns]\n",
      "\n",
      "Anomaly VHI more than 75 Dnipropetrovsk:\n",
      "      Year  Week    VHI\n",
      "633   1994     2  75.93\n",
      "634   1994     3  76.39\n",
      "635   1994     4  78.78\n",
      "636   1994     5  81.64\n",
      "637   1994     6  81.80\n",
      "638   1994     7  77.31\n",
      "795   1997    30  78.35\n",
      "796   1997    31  79.59\n",
      "797   1997    32  80.62\n",
      "798   1997    33  81.44\n",
      "799   1997    34  81.55\n",
      "800   1997    35  80.80\n",
      "801   1997    36  78.76\n",
      "802   1997    37  76.36\n",
      "1107  2003    30  78.63\n",
      "1108  2003    31  79.91\n",
      "1109  2003    32  79.55\n",
      "1110  2003    33  77.03\n",
      "1159  2004    30  75.10\n",
      "1160  2004    31  75.37\n",
      "1161  2004    32  76.07\n",
      "1162  2004    33  76.62\n",
      "1163  2004    34  76.23\n",
      "\n",
      "[23 rows x 3 columns]\n",
      "\n",
      "MIN_VHI_Dnipropetrovsk: 13.3\n",
      "1986\n",
      "\n",
      "MAX_VHI_Dnipropetrovsk: 81.8\n",
      "1994\n",
      "\n",
      "Drought in Dnipropetrovsk was:\n",
      "     Year  Week    VHI\n",
      "251  1986    35  14.24\n",
      "252  1986    36  13.30\n",
      "\n",
      "[2 rows x 3 columns]\n"
     ]
    },
    {
     "data": {
      "image/png": "[encoded data removed]",
      "text/plain": [
       "<matplotlib.figure.Figure at 0x7f4c9a8935d0>"
      ]
     },
     "metadata": {},
     "output_type": "display_data"
    }
   ],
   "source": [
    "id = 3\n",
    "year=1986\n",
    "state = get_name(id)\n",
    "new_id = get_id(id)\n",
    "file_name = filename(new_id,state)\n",
    "new_file_name = 'new_' + file_name\n",
    "save(new_id,file_name)\n",
    "print('File: '+file_name+'\\n')\n",
    "readtoframe(file_name)\n",
    "anomaly_VHI(new_file_name,state)\n",
    "VHI_min(new_file_name,state)\n",
    "VHI_max(new_file_name,state)\n",
    "VHI_drought(new_file_name,state)\n",
    "Plot_build(new_file_name,state,year)"
   ]
  },
  {
   "cell_type": "markdown",
   "metadata": {
    "collapsed": true
   },
   "source": [
    "# Висновок\n",
    "На цій лабораторній роботі я отримав елементарні знання в області DataScience. Дані для дослідження були взяті з сайту http://www.star.nesdis.noaa.gov. Цей сайт є центром по застосуванню супутникових систем і досліджень процесів, які відбуваються на нашій планеті. Дані, які я використовував пов'язані з індексом VHI - це вегетаційний індекс, який базується на відбитті видимого світла рослинним покривом. Вони були досліджені для різних областей України. Так звані сирі дані(raw data) були завантажені до фрейму та змінені відповідно до завдання. Було виконане додаткове завдання для виведення аномальних показників VHI.\n",
    "Побудовано графіки для певної області за різні роки, які показують залежність аномального VHI індексу від тижня року. "
   ]
  }
 ],
 "metadata": {
  "kernelspec": {
   "display_name": "Python 2",
   "language": "python",
   "name": "python2"
  },
  "language_info": {
   "codemirror_mode": {
    "name": "ipython",
    "version": 2
   },
   "file_extension": ".py",
   "mimetype": "text/x-python",
   "name": "python",
   "nbconvert_exporter": "python",
   "pygments_lexer": "ipython2",
   "version": "2.7.6"
  }
 },
 "nbformat": 4,
 "nbformat_minor": 0
}
